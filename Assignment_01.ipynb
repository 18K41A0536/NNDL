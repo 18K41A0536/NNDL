{
  "nbformat": 4,
  "nbformat_minor": 0,
  "metadata": {
    "colab": {
      "name": "Assignment 01.ipynb",
      "provenance": [],
      "collapsed_sections": [],
      "authorship_tag": "ABX9TyPgRTg+39VEOyZ9oDMeN8qn",
      "include_colab_link": true
    },
    "kernelspec": {
      "name": "python3",
      "display_name": "Python 3"
    },
    "language_info": {
      "name": "python"
    }
  },
  "cells": [
    {
      "cell_type": "markdown",
      "metadata": {
        "id": "view-in-github",
        "colab_type": "text"
      },
      "source": [
        "<a href=\"https://colab.research.google.com/github/18K41A0536/NNDL/blob/main/Assignment_01.ipynb\" target=\"_parent\"><img src=\"https://colab.research.google.com/assets/colab-badge.svg\" alt=\"Open In Colab\"/></a>"
      ]
    },
    {
      "cell_type": "code",
      "metadata": {
        "colab": {
          "base_uri": "https://localhost:8080/"
        },
        "id": "9VKGOsCK_GIi",
        "outputId": "574a034a-e0de-4006-fbc8-0f48707a99e0"
      },
      "source": [
        "from sympy import *\n",
        "# Calculating first order derivative\n",
        "x=Symbol('x')\n",
        "y=diff(x**4+3*x**2+10,x)\n",
        "print(f'first order derivative of given function is {y}');\n",
        "#step1\n",
        "x1=1.0\n",
        "itr=20\n",
        "learning_rate=0.1\n",
        "for i in range(0,itr):\n",
        "  x=Symbol('x')\n",
        "  df=y.subs(x,x1)\n",
        "  df=round(df,2)\n",
        "  dx=(-1.0)*learning_rate*df\n",
        "  #step 4\n",
        "  x1=x1+dx\n",
        "  x1=round(x1,2)\n",
        "print(x)\n",
        "print(f'minimum value obtained at x={x1} for given function')\n",
        "fn=x**4+3*x**2+10\n",
        "print(f'value for given function (f(x)) at minimum value x={x1} is {fn.subs(x,x1)}')\n",
        "\n",
        "\n",
        "\n"
      ],
      "execution_count": null,
      "outputs": [
        {
          "output_type": "stream",
          "text": [
            "first order derivative of given function is 4*x**3 + 6*x\n",
            "x\n",
            "minimum value obtained at x=0 for given function\n",
            "value for given function (f(x)) at minimum value x=0 is 10\n"
          ],
          "name": "stdout"
        }
      ]
    },
    {
      "cell_type": "code",
      "metadata": {
        "id": "ZJhJS4a-8RYX"
      },
      "source": [
        ""
      ],
      "execution_count": null,
      "outputs": []
    }
  ]
}